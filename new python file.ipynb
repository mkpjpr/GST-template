{
 "cells": [
  {
   "cell_type": "code",
   "execution_count": 28,
   "id": "015e4d50",
   "metadata": {},
   "outputs": [],
   "source": [
    "import pandas as pd\n",
    "import numpy as np\n",
    "\n",
    "def get_state_code(gst_number):\n",
    "    try:\n",
    "        return int(gst_number[0:2])\n",
    "    except:\n",
    "        return 0\n",
    "\n",
    "#extract data\n",
    "cust_master=pd.read_excel(r\"C:\\Users\\yoges\\Desktop\\mukesh\\Python\\season 2\\class 6\\PANDAS PRACTICE FILES\\CUSTOMER_MASTER.xlsx\")\n",
    "state_code_master=pd.read_excel(r\"C:\\Users\\yoges\\Desktop\\mukesh\\Python\\season 2\\class 6\\PANDAS PRACTICE FILES\\STATE_CODE_MASTERS.xlsx\")\n",
    "prod_master=pd.read_excel(r\"C:\\Users\\yoges\\Desktop\\mukesh\\Python\\season 2\\class 6\\PANDAS PRACTICE FILES\\PRODUCT_CODE_MASTER.xlsx\")\n",
    "main_sales_data=pd.read_excel(r\"C:\\Users\\yoges\\Desktop\\mukesh\\Python\\season 2\\class 6\\PANDAS PRACTICE FILES\\MAIN_SALES_DATA.xlsx\",skiprows=2)\n",
    "template=main_sales_data\n",
    "\n",
    "#transform data\n",
    "df=template.merge(right=prod_master,how=\"left\",left_on=\"Product Code\",right_on=\"Product Code\")\n",
    "df.drop(\"S.N\",axis=1, inplace=True)\n",
    "df[\"Sales Before Tax\"]=df[\"Units Sold\"]*df[\"PRICE\"]\n",
    "df[\"Taxable value\"]=df[\"Sales Before Tax\"]-df[\"Discount\"]\n",
    "df[\"State Code\"]=df[\"GST Number\"].apply(lambda x:get_state_code(x))\n",
    "df1=df.merge(right=state_code_master,how=\"left\",left_on=\"State Code\",right_on=\"State Code\")\n",
    "\n",
    "df1.drop(\"State Code\", axis=1, inplace=True)\n",
    "df1[\"IGST\"]=np.where(df1[\"Supplier State\"]==df1[\"State Name\"],0,df1[\"Taxable value\"]*df1[\"GST RATE\"])\n",
    "df1[\"CGST\"]=np.where(df1[\"Supplier State\"]==df1[\"State Name\"],df1[\"Taxable value\"]*df1[\"GST RATE\"]/2,0)\n",
    "df1[\"SGST\"]=np.where(df1[\"Supplier State\"]==df1[\"State Name\"],df1[\"Taxable value\"]*df1[\"GST RATE\"]/2,0)\n",
    "df1[\"Total GST\"]=df1[\"IGST\"]+df1[\"CGST\"]+df1[\"SGST\"]\n",
    "\n",
    "#NESTED IF>>>NP.SELECT\n",
    "\n",
    "df1=df1.replace(np.nan,\"\")\n",
    "\n",
    "conditions=[((df1[\"Doc Type\"]==\"Invoice\")&(df1[\"GST Number\"]!=\"\")),\n",
    "            ((df1[\"Doc Type\"]==\"Invoice\")&(df1[\"GST Number\"]==\"\")),\n",
    "            (df1[\"Doc Type\"]!=\"Invoice\")]\n",
    "results=[\"Table 4A- B2B\",\"Table 5A- B2C\",\"Table 9- CDNR\"]\n",
    "df1[\"Table GSTR1\"]=np.select(conditions,results)\n",
    "\n",
    "df2=df1.pivot_table(index=[\"Table GSTR1\",\"GST RATE\",\"HSN Code\"],values=[\"IGST\",\"CGST\",\"SGST\",\"Taxable value\"],aggfunc=\"sum\")\n",
    "writer=pd.ExcelWriter(\"main output.xlsx\",engine=\"openpyxl\")\n",
    "df1.to_excel(writer,sheet_name=\"Main Data\")\n",
    "df2.to_excel(writer,sheet_name=\"Pivot\")\n",
    "writer.close()\n"
   ]
  },
  {
   "cell_type": "code",
   "execution_count": null,
   "id": "5d72b0c5",
   "metadata": {},
   "outputs": [],
   "source": []
  }
 ],
 "metadata": {
  "kernelspec": {
   "display_name": "Python 3 (ipykernel)",
   "language": "python",
   "name": "python3"
  },
  "language_info": {
   "codemirror_mode": {
    "name": "ipython",
    "version": 3
   },
   "file_extension": ".py",
   "mimetype": "text/x-python",
   "name": "python",
   "nbconvert_exporter": "python",
   "pygments_lexer": "ipython3",
   "version": "3.9.5"
  }
 },
 "nbformat": 4,
 "nbformat_minor": 5
}
